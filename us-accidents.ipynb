{
 "cells": [
  {
   "cell_type": "markdown",
   "metadata": {},
   "source": [
    "<h1> Dataset Us - Accidents</h1>\n",
    "\n",
    "<b>Description</b>\n",
    "\n",
    "This is a countrywide car accident dataset, which covers 49 states of the United States. The accident data are collected from February 2016 to December 2019, using several data providers, including two APIs that provide streaming traffic incident data. These APIs broadcast traffic data captured by a variety of entities, such as the US and state departments of transportation, law enforcement agencies, traffic cameras, and traffic sensors within the road-networks. Currently, there are about 3.0 million accident records in this dataset. Check here to learn more about this dataset.\n",
    "Acknowledgements\n",
    "\n",
    "\n",
    "    Moosavi, Sobhan, Mohammad Hossein Samavatian, Srinivasan Parthasarathy, and Rajiv Ramnath. “A Countrywide Traffic Accident Dataset.”, 2019.\n",
    "\n",
    "    Moosavi, Sobhan, Mohammad Hossein Samavatian, Srinivasan Parthasarathy, Radu Teodorescu, and Rajiv Ramnath. \"Accident Risk Prediction based on Heterogeneous Sparse Data: New Dataset and Insights.\" In proceedings of the 27th ACM SIGSPATIAL International Conference on Advances in Geographic Information Systems, ACM, 2019.\n",
    "\n",
    "<b>Content</b>\n",
    "\n",
    "This dataset has been collected in real-time, using multiple Traffic APIs. Currently, it contains accident data that are collected from February 2016 to December 2019 for the Contiguous United States. Check here to learn more about this dataset.\n",
    "Inspiration\n",
    "\n",
    "US-Accidents can be used for numerous applications such as real-time car accident prediction, studying car accidents hotspot locations, casualty analysis and extracting cause and effect rules to predict car accidents, and studying the impact of precipitation or other environmental stimuli on accident occurrence.\n",
    "Usage Policy and Legal Disclaimer\n",
    "\n",
    "This dataset is being distributed only for Research purposes, under Creative Commons Attribution-Noncommercial-ShareAlike license (CC BY-NC-SA 4.0). By clicking on download button(s) below, you are agreeing to use this data only for non-commercial, research, or academic applications. You may need to cite the above papers if you use this dataset. \n",
    "<hr>\n",
    "<ol>\n",
    "    <li><b>Dataset overview</b></li>\n",
    "    <li><b>Import libs, import data</b></li>\n",
    "    <li><b>Describe imported DataFrame</b></li>\n",
    "    <li><b>CleanUp of DataSet</b></li>\n",
    "    <li><b>Visualization</b></li>\n",
    "    <li><b>Conclusion</b></li>\n",
    "</ol>\n",
    "   \n",
    "\n"
   ]
  },
  {
   "cell_type": "markdown",
   "metadata": {},
   "source": [
    "<h1>Import libs, import data</h1>"
   ]
  },
  {
   "cell_type": "code",
   "execution_count": 211,
   "metadata": {
    "ExecuteTime": {
     "end_time": "2020-04-01T14:10:19.671600Z",
     "start_time": "2020-04-01T14:10:19.650857Z"
    }
   },
   "outputs": [],
   "source": [
    "from __future__ import print_function, division\n",
    "import numpy as np\n",
    "import pandas as pd\n",
    "import matplotlib as mpl\n",
    "import matplotlib.pyplot as plt\n",
    "import seaborn as sns\n",
    "%matplotlib inline"
   ]
  },
  {
   "cell_type": "code",
   "execution_count": 212,
   "metadata": {
    "ExecuteTime": {
     "end_time": "2020-04-01T14:11:59.745209Z",
     "start_time": "2020-04-01T14:10:19.675944Z"
    }
   },
   "outputs": [],
   "source": [
    "#Change custom string, to NaN float values, while reading csv\n",
    "na_vals = ['NA', 'Missing']\n",
    "\n",
    "df = pd.read_csv('/run/media/adrian/e7e19456-4785-4c08-8f92-4d1eca201c56/DataSet/us-accidents/US_Accidents_Dec19.csv', na_values = na_vals)"
   ]
  },
  {
   "cell_type": "markdown",
   "metadata": {},
   "source": [
    "# Describe DataFrame\n",
    "\n",
    "### We will use some panda methods or attributes to get informations about DataFrame."
   ]
  },
  {
   "cell_type": "code",
   "execution_count": 213,
   "metadata": {
    "ExecuteTime": {
     "end_time": "2020-04-01T14:12:00.021492Z",
     "start_time": "2020-04-01T14:11:59.807733Z"
    }
   },
   "outputs": [
    {
     "data": {
      "text/html": [
       "<div>\n",
       "<style scoped>\n",
       "    .dataframe tbody tr th:only-of-type {\n",
       "        vertical-align: middle;\n",
       "    }\n",
       "\n",
       "    .dataframe tbody tr th {\n",
       "        vertical-align: top;\n",
       "    }\n",
       "\n",
       "    .dataframe thead th {\n",
       "        text-align: right;\n",
       "    }\n",
       "</style>\n",
       "<table border=\"1\" class=\"dataframe\">\n",
       "  <thead>\n",
       "    <tr style=\"text-align: right;\">\n",
       "      <th></th>\n",
       "      <th>ID</th>\n",
       "      <th>Source</th>\n",
       "      <th>TMC</th>\n",
       "      <th>Severity</th>\n",
       "      <th>Start_Time</th>\n",
       "      <th>End_Time</th>\n",
       "      <th>Start_Lat</th>\n",
       "      <th>Start_Lng</th>\n",
       "      <th>End_Lat</th>\n",
       "      <th>End_Lng</th>\n",
       "      <th>...</th>\n",
       "      <th>Roundabout</th>\n",
       "      <th>Station</th>\n",
       "      <th>Stop</th>\n",
       "      <th>Traffic_Calming</th>\n",
       "      <th>Traffic_Signal</th>\n",
       "      <th>Turning_Loop</th>\n",
       "      <th>Sunrise_Sunset</th>\n",
       "      <th>Civil_Twilight</th>\n",
       "      <th>Nautical_Twilight</th>\n",
       "      <th>Astronomical_Twilight</th>\n",
       "    </tr>\n",
       "  </thead>\n",
       "  <tbody>\n",
       "    <tr>\n",
       "      <th>0</th>\n",
       "      <td>A-1</td>\n",
       "      <td>MapQuest</td>\n",
       "      <td>201.0</td>\n",
       "      <td>3</td>\n",
       "      <td>2016-02-08 05:46:00</td>\n",
       "      <td>2016-02-08 11:00:00</td>\n",
       "      <td>39.865147</td>\n",
       "      <td>-84.058723</td>\n",
       "      <td>NaN</td>\n",
       "      <td>NaN</td>\n",
       "      <td>...</td>\n",
       "      <td>False</td>\n",
       "      <td>False</td>\n",
       "      <td>False</td>\n",
       "      <td>False</td>\n",
       "      <td>False</td>\n",
       "      <td>False</td>\n",
       "      <td>Night</td>\n",
       "      <td>Night</td>\n",
       "      <td>Night</td>\n",
       "      <td>Night</td>\n",
       "    </tr>\n",
       "    <tr>\n",
       "      <th>1</th>\n",
       "      <td>A-2</td>\n",
       "      <td>MapQuest</td>\n",
       "      <td>201.0</td>\n",
       "      <td>2</td>\n",
       "      <td>2016-02-08 06:07:59</td>\n",
       "      <td>2016-02-08 06:37:59</td>\n",
       "      <td>39.928059</td>\n",
       "      <td>-82.831184</td>\n",
       "      <td>NaN</td>\n",
       "      <td>NaN</td>\n",
       "      <td>...</td>\n",
       "      <td>False</td>\n",
       "      <td>False</td>\n",
       "      <td>False</td>\n",
       "      <td>False</td>\n",
       "      <td>False</td>\n",
       "      <td>False</td>\n",
       "      <td>Night</td>\n",
       "      <td>Night</td>\n",
       "      <td>Night</td>\n",
       "      <td>Day</td>\n",
       "    </tr>\n",
       "    <tr>\n",
       "      <th>2</th>\n",
       "      <td>A-3</td>\n",
       "      <td>MapQuest</td>\n",
       "      <td>201.0</td>\n",
       "      <td>2</td>\n",
       "      <td>2016-02-08 06:49:27</td>\n",
       "      <td>2016-02-08 07:19:27</td>\n",
       "      <td>39.063148</td>\n",
       "      <td>-84.032608</td>\n",
       "      <td>NaN</td>\n",
       "      <td>NaN</td>\n",
       "      <td>...</td>\n",
       "      <td>False</td>\n",
       "      <td>False</td>\n",
       "      <td>False</td>\n",
       "      <td>False</td>\n",
       "      <td>True</td>\n",
       "      <td>False</td>\n",
       "      <td>Night</td>\n",
       "      <td>Night</td>\n",
       "      <td>Day</td>\n",
       "      <td>Day</td>\n",
       "    </tr>\n",
       "    <tr>\n",
       "      <th>3</th>\n",
       "      <td>A-4</td>\n",
       "      <td>MapQuest</td>\n",
       "      <td>201.0</td>\n",
       "      <td>3</td>\n",
       "      <td>2016-02-08 07:23:34</td>\n",
       "      <td>2016-02-08 07:53:34</td>\n",
       "      <td>39.747753</td>\n",
       "      <td>-84.205582</td>\n",
       "      <td>NaN</td>\n",
       "      <td>NaN</td>\n",
       "      <td>...</td>\n",
       "      <td>False</td>\n",
       "      <td>False</td>\n",
       "      <td>False</td>\n",
       "      <td>False</td>\n",
       "      <td>False</td>\n",
       "      <td>False</td>\n",
       "      <td>Night</td>\n",
       "      <td>Day</td>\n",
       "      <td>Day</td>\n",
       "      <td>Day</td>\n",
       "    </tr>\n",
       "    <tr>\n",
       "      <th>4</th>\n",
       "      <td>A-5</td>\n",
       "      <td>MapQuest</td>\n",
       "      <td>201.0</td>\n",
       "      <td>2</td>\n",
       "      <td>2016-02-08 07:39:07</td>\n",
       "      <td>2016-02-08 08:09:07</td>\n",
       "      <td>39.627781</td>\n",
       "      <td>-84.188354</td>\n",
       "      <td>NaN</td>\n",
       "      <td>NaN</td>\n",
       "      <td>...</td>\n",
       "      <td>False</td>\n",
       "      <td>False</td>\n",
       "      <td>False</td>\n",
       "      <td>False</td>\n",
       "      <td>True</td>\n",
       "      <td>False</td>\n",
       "      <td>Day</td>\n",
       "      <td>Day</td>\n",
       "      <td>Day</td>\n",
       "      <td>Day</td>\n",
       "    </tr>\n",
       "  </tbody>\n",
       "</table>\n",
       "<p>5 rows × 49 columns</p>\n",
       "</div>"
      ],
      "text/plain": [
       "    ID    Source    TMC  Severity           Start_Time             End_Time  \\\n",
       "0  A-1  MapQuest  201.0         3  2016-02-08 05:46:00  2016-02-08 11:00:00   \n",
       "1  A-2  MapQuest  201.0         2  2016-02-08 06:07:59  2016-02-08 06:37:59   \n",
       "2  A-3  MapQuest  201.0         2  2016-02-08 06:49:27  2016-02-08 07:19:27   \n",
       "3  A-4  MapQuest  201.0         3  2016-02-08 07:23:34  2016-02-08 07:53:34   \n",
       "4  A-5  MapQuest  201.0         2  2016-02-08 07:39:07  2016-02-08 08:09:07   \n",
       "\n",
       "   Start_Lat  Start_Lng  End_Lat  End_Lng  ...  Roundabout Station   Stop  \\\n",
       "0  39.865147 -84.058723      NaN      NaN  ...       False   False  False   \n",
       "1  39.928059 -82.831184      NaN      NaN  ...       False   False  False   \n",
       "2  39.063148 -84.032608      NaN      NaN  ...       False   False  False   \n",
       "3  39.747753 -84.205582      NaN      NaN  ...       False   False  False   \n",
       "4  39.627781 -84.188354      NaN      NaN  ...       False   False  False   \n",
       "\n",
       "  Traffic_Calming Traffic_Signal Turning_Loop Sunrise_Sunset Civil_Twilight  \\\n",
       "0           False          False        False          Night          Night   \n",
       "1           False          False        False          Night          Night   \n",
       "2           False           True        False          Night          Night   \n",
       "3           False          False        False          Night            Day   \n",
       "4           False           True        False            Day            Day   \n",
       "\n",
       "  Nautical_Twilight Astronomical_Twilight  \n",
       "0             Night                 Night  \n",
       "1             Night                   Day  \n",
       "2               Day                   Day  \n",
       "3               Day                   Day  \n",
       "4               Day                   Day  \n",
       "\n",
       "[5 rows x 49 columns]"
      ]
     },
     "execution_count": 213,
     "metadata": {},
     "output_type": "execute_result"
    }
   ],
   "source": [
    "df.head()"
   ]
  },
  {
   "cell_type": "code",
   "execution_count": 214,
   "metadata": {
    "ExecuteTime": {
     "end_time": "2020-04-01T14:12:00.037214Z",
     "start_time": "2020-04-01T14:12:00.028457Z"
    }
   },
   "outputs": [
    {
     "data": {
      "text/plain": [
       "(2974335, 49)"
      ]
     },
     "execution_count": 214,
     "metadata": {},
     "output_type": "execute_result"
    }
   ],
   "source": [
    "df.shape"
   ]
  },
  {
   "cell_type": "code",
   "execution_count": 215,
   "metadata": {
    "ExecuteTime": {
     "end_time": "2020-04-01T14:12:04.130138Z",
     "start_time": "2020-04-01T14:12:00.044893Z"
    }
   },
   "outputs": [
    {
     "data": {
      "text/html": [
       "<div>\n",
       "<style scoped>\n",
       "    .dataframe tbody tr th:only-of-type {\n",
       "        vertical-align: middle;\n",
       "    }\n",
       "\n",
       "    .dataframe tbody tr th {\n",
       "        vertical-align: top;\n",
       "    }\n",
       "\n",
       "    .dataframe thead th {\n",
       "        text-align: right;\n",
       "    }\n",
       "</style>\n",
       "<table border=\"1\" class=\"dataframe\">\n",
       "  <thead>\n",
       "    <tr style=\"text-align: right;\">\n",
       "      <th></th>\n",
       "      <th>TMC</th>\n",
       "      <th>Severity</th>\n",
       "      <th>Start_Lat</th>\n",
       "      <th>Start_Lng</th>\n",
       "      <th>End_Lat</th>\n",
       "      <th>End_Lng</th>\n",
       "      <th>Distance(mi)</th>\n",
       "      <th>Number</th>\n",
       "      <th>Temperature(F)</th>\n",
       "      <th>Wind_Chill(F)</th>\n",
       "      <th>Humidity(%)</th>\n",
       "      <th>Pressure(in)</th>\n",
       "      <th>Visibility(mi)</th>\n",
       "      <th>Wind_Speed(mph)</th>\n",
       "      <th>Precipitation(in)</th>\n",
       "    </tr>\n",
       "  </thead>\n",
       "  <tbody>\n",
       "    <tr>\n",
       "      <th>count</th>\n",
       "      <td>2.246264e+06</td>\n",
       "      <td>2.974335e+06</td>\n",
       "      <td>2.974335e+06</td>\n",
       "      <td>2.974335e+06</td>\n",
       "      <td>728071.000000</td>\n",
       "      <td>728071.000000</td>\n",
       "      <td>2.974335e+06</td>\n",
       "      <td>1.056730e+06</td>\n",
       "      <td>2.918272e+06</td>\n",
       "      <td>1.121712e+06</td>\n",
       "      <td>2.915162e+06</td>\n",
       "      <td>2.926193e+06</td>\n",
       "      <td>2.908644e+06</td>\n",
       "      <td>2.533495e+06</td>\n",
       "      <td>975977.000000</td>\n",
       "    </tr>\n",
       "    <tr>\n",
       "      <th>mean</th>\n",
       "      <td>2.078316e+02</td>\n",
       "      <td>2.360190e+00</td>\n",
       "      <td>3.649361e+01</td>\n",
       "      <td>-9.542625e+01</td>\n",
       "      <td>37.580871</td>\n",
       "      <td>-99.976032</td>\n",
       "      <td>2.855654e-01</td>\n",
       "      <td>5.837004e+03</td>\n",
       "      <td>6.235120e+01</td>\n",
       "      <td>5.132685e+01</td>\n",
       "      <td>6.540542e+01</td>\n",
       "      <td>2.983190e+01</td>\n",
       "      <td>9.150770e+00</td>\n",
       "      <td>8.298064e+00</td>\n",
       "      <td>0.020495</td>\n",
       "    </tr>\n",
       "    <tr>\n",
       "      <th>std</th>\n",
       "      <td>2.032959e+01</td>\n",
       "      <td>5.414733e-01</td>\n",
       "      <td>4.918849e+00</td>\n",
       "      <td>1.721881e+01</td>\n",
       "      <td>5.004757</td>\n",
       "      <td>18.416647</td>\n",
       "      <td>1.548392e+00</td>\n",
       "      <td>1.515928e+04</td>\n",
       "      <td>1.878855e+01</td>\n",
       "      <td>2.519127e+01</td>\n",
       "      <td>2.255676e+01</td>\n",
       "      <td>7.213808e-01</td>\n",
       "      <td>2.892114e+00</td>\n",
       "      <td>5.138546e+00</td>\n",
       "      <td>0.235770</td>\n",
       "    </tr>\n",
       "    <tr>\n",
       "      <th>min</th>\n",
       "      <td>2.000000e+02</td>\n",
       "      <td>1.000000e+00</td>\n",
       "      <td>2.455527e+01</td>\n",
       "      <td>-1.246238e+02</td>\n",
       "      <td>24.570110</td>\n",
       "      <td>-124.497829</td>\n",
       "      <td>0.000000e+00</td>\n",
       "      <td>0.000000e+00</td>\n",
       "      <td>-7.780000e+01</td>\n",
       "      <td>-6.590000e+01</td>\n",
       "      <td>1.000000e+00</td>\n",
       "      <td>0.000000e+00</td>\n",
       "      <td>0.000000e+00</td>\n",
       "      <td>0.000000e+00</td>\n",
       "      <td>0.000000</td>\n",
       "    </tr>\n",
       "    <tr>\n",
       "      <th>25%</th>\n",
       "      <td>2.010000e+02</td>\n",
       "      <td>2.000000e+00</td>\n",
       "      <td>3.355040e+01</td>\n",
       "      <td>-1.172920e+02</td>\n",
       "      <td>33.957554</td>\n",
       "      <td>-118.286610</td>\n",
       "      <td>0.000000e+00</td>\n",
       "      <td>8.370000e+02</td>\n",
       "      <td>5.000000e+01</td>\n",
       "      <td>3.200000e+01</td>\n",
       "      <td>4.900000e+01</td>\n",
       "      <td>2.982000e+01</td>\n",
       "      <td>1.000000e+01</td>\n",
       "      <td>4.600000e+00</td>\n",
       "      <td>0.000000</td>\n",
       "    </tr>\n",
       "    <tr>\n",
       "      <th>50%</th>\n",
       "      <td>2.010000e+02</td>\n",
       "      <td>2.000000e+00</td>\n",
       "      <td>3.584969e+01</td>\n",
       "      <td>-9.025083e+01</td>\n",
       "      <td>37.903670</td>\n",
       "      <td>-96.631690</td>\n",
       "      <td>0.000000e+00</td>\n",
       "      <td>2.717000e+03</td>\n",
       "      <td>6.440000e+01</td>\n",
       "      <td>5.400000e+01</td>\n",
       "      <td>6.700000e+01</td>\n",
       "      <td>2.998000e+01</td>\n",
       "      <td>1.000000e+01</td>\n",
       "      <td>7.000000e+00</td>\n",
       "      <td>0.000000</td>\n",
       "    </tr>\n",
       "    <tr>\n",
       "      <th>75%</th>\n",
       "      <td>2.010000e+02</td>\n",
       "      <td>3.000000e+00</td>\n",
       "      <td>4.037026e+01</td>\n",
       "      <td>-8.091891e+01</td>\n",
       "      <td>41.372630</td>\n",
       "      <td>-82.323850</td>\n",
       "      <td>1.000000e-02</td>\n",
       "      <td>7.000000e+03</td>\n",
       "      <td>7.600000e+01</td>\n",
       "      <td>7.300000e+01</td>\n",
       "      <td>8.400000e+01</td>\n",
       "      <td>3.011000e+01</td>\n",
       "      <td>1.000000e+01</td>\n",
       "      <td>1.040000e+01</td>\n",
       "      <td>0.000000</td>\n",
       "    </tr>\n",
       "    <tr>\n",
       "      <th>max</th>\n",
       "      <td>4.060000e+02</td>\n",
       "      <td>4.000000e+00</td>\n",
       "      <td>4.900220e+01</td>\n",
       "      <td>-6.711317e+01</td>\n",
       "      <td>49.075000</td>\n",
       "      <td>-67.109242</td>\n",
       "      <td>3.336300e+02</td>\n",
       "      <td>9.999997e+06</td>\n",
       "      <td>1.706000e+02</td>\n",
       "      <td>1.150000e+02</td>\n",
       "      <td>1.000000e+02</td>\n",
       "      <td>3.304000e+01</td>\n",
       "      <td>1.400000e+02</td>\n",
       "      <td>8.228000e+02</td>\n",
       "      <td>25.000000</td>\n",
       "    </tr>\n",
       "  </tbody>\n",
       "</table>\n",
       "</div>"
      ],
      "text/plain": [
       "                TMC      Severity     Start_Lat     Start_Lng        End_Lat  \\\n",
       "count  2.246264e+06  2.974335e+06  2.974335e+06  2.974335e+06  728071.000000   \n",
       "mean   2.078316e+02  2.360190e+00  3.649361e+01 -9.542625e+01      37.580871   \n",
       "std    2.032959e+01  5.414733e-01  4.918849e+00  1.721881e+01       5.004757   \n",
       "min    2.000000e+02  1.000000e+00  2.455527e+01 -1.246238e+02      24.570110   \n",
       "25%    2.010000e+02  2.000000e+00  3.355040e+01 -1.172920e+02      33.957554   \n",
       "50%    2.010000e+02  2.000000e+00  3.584969e+01 -9.025083e+01      37.903670   \n",
       "75%    2.010000e+02  3.000000e+00  4.037026e+01 -8.091891e+01      41.372630   \n",
       "max    4.060000e+02  4.000000e+00  4.900220e+01 -6.711317e+01      49.075000   \n",
       "\n",
       "             End_Lng  Distance(mi)        Number  Temperature(F)  \\\n",
       "count  728071.000000  2.974335e+06  1.056730e+06    2.918272e+06   \n",
       "mean      -99.976032  2.855654e-01  5.837004e+03    6.235120e+01   \n",
       "std        18.416647  1.548392e+00  1.515928e+04    1.878855e+01   \n",
       "min      -124.497829  0.000000e+00  0.000000e+00   -7.780000e+01   \n",
       "25%      -118.286610  0.000000e+00  8.370000e+02    5.000000e+01   \n",
       "50%       -96.631690  0.000000e+00  2.717000e+03    6.440000e+01   \n",
       "75%       -82.323850  1.000000e-02  7.000000e+03    7.600000e+01   \n",
       "max       -67.109242  3.336300e+02  9.999997e+06    1.706000e+02   \n",
       "\n",
       "       Wind_Chill(F)   Humidity(%)  Pressure(in)  Visibility(mi)  \\\n",
       "count   1.121712e+06  2.915162e+06  2.926193e+06    2.908644e+06   \n",
       "mean    5.132685e+01  6.540542e+01  2.983190e+01    9.150770e+00   \n",
       "std     2.519127e+01  2.255676e+01  7.213808e-01    2.892114e+00   \n",
       "min    -6.590000e+01  1.000000e+00  0.000000e+00    0.000000e+00   \n",
       "25%     3.200000e+01  4.900000e+01  2.982000e+01    1.000000e+01   \n",
       "50%     5.400000e+01  6.700000e+01  2.998000e+01    1.000000e+01   \n",
       "75%     7.300000e+01  8.400000e+01  3.011000e+01    1.000000e+01   \n",
       "max     1.150000e+02  1.000000e+02  3.304000e+01    1.400000e+02   \n",
       "\n",
       "       Wind_Speed(mph)  Precipitation(in)  \n",
       "count     2.533495e+06      975977.000000  \n",
       "mean      8.298064e+00           0.020495  \n",
       "std       5.138546e+00           0.235770  \n",
       "min       0.000000e+00           0.000000  \n",
       "25%       4.600000e+00           0.000000  \n",
       "50%       7.000000e+00           0.000000  \n",
       "75%       1.040000e+01           0.000000  \n",
       "max       8.228000e+02          25.000000  "
      ]
     },
     "execution_count": 215,
     "metadata": {},
     "output_type": "execute_result"
    }
   ],
   "source": [
    "df.describe()"
   ]
  },
  {
   "cell_type": "code",
   "execution_count": 216,
   "metadata": {
    "ExecuteTime": {
     "end_time": "2020-04-01T14:12:04.164311Z",
     "start_time": "2020-04-01T14:12:04.132387Z"
    }
   },
   "outputs": [
    {
     "name": "stdout",
     "output_type": "stream",
     "text": [
      "<class 'pandas.core.frame.DataFrame'>\n",
      "RangeIndex: 2974335 entries, 0 to 2974334\n",
      "Data columns (total 49 columns):\n",
      " #   Column                 Dtype  \n",
      "---  ------                 -----  \n",
      " 0   ID                     object \n",
      " 1   Source                 object \n",
      " 2   TMC                    float64\n",
      " 3   Severity               int64  \n",
      " 4   Start_Time             object \n",
      " 5   End_Time               object \n",
      " 6   Start_Lat              float64\n",
      " 7   Start_Lng              float64\n",
      " 8   End_Lat                float64\n",
      " 9   End_Lng                float64\n",
      " 10  Distance(mi)           float64\n",
      " 11  Description            object \n",
      " 12  Number                 float64\n",
      " 13  Street                 object \n",
      " 14  Side                   object \n",
      " 15  City                   object \n",
      " 16  County                 object \n",
      " 17  State                  object \n",
      " 18  Zipcode                object \n",
      " 19  Country                object \n",
      " 20  Timezone               object \n",
      " 21  Airport_Code           object \n",
      " 22  Weather_Timestamp      object \n",
      " 23  Temperature(F)         float64\n",
      " 24  Wind_Chill(F)          float64\n",
      " 25  Humidity(%)            float64\n",
      " 26  Pressure(in)           float64\n",
      " 27  Visibility(mi)         float64\n",
      " 28  Wind_Direction         object \n",
      " 29  Wind_Speed(mph)        float64\n",
      " 30  Precipitation(in)      float64\n",
      " 31  Weather_Condition      object \n",
      " 32  Amenity                bool   \n",
      " 33  Bump                   bool   \n",
      " 34  Crossing               bool   \n",
      " 35  Give_Way               bool   \n",
      " 36  Junction               bool   \n",
      " 37  No_Exit                bool   \n",
      " 38  Railway                bool   \n",
      " 39  Roundabout             bool   \n",
      " 40  Station                bool   \n",
      " 41  Stop                   bool   \n",
      " 42  Traffic_Calming        bool   \n",
      " 43  Traffic_Signal         bool   \n",
      " 44  Turning_Loop           bool   \n",
      " 45  Sunrise_Sunset         object \n",
      " 46  Civil_Twilight         object \n",
      " 47  Nautical_Twilight      object \n",
      " 48  Astronomical_Twilight  object \n",
      "dtypes: bool(13), float64(14), int64(1), object(21)\n",
      "memory usage: 853.8+ MB\n"
     ]
    }
   ],
   "source": [
    "df.info()"
   ]
  },
  {
   "cell_type": "markdown",
   "metadata": {},
   "source": [
    "# CleanUp of DataSet\n",
    "\n",
    "\n",
    "\n",
    "\n",
    "Find if there are any columns that can be dropped, because of many missing values, to make DataFrame more clean.\n",
    "Check if there is possibility to change dtype of some columns, eg. object to float64"
   ]
  },
  {
   "cell_type": "markdown",
   "metadata": {},
   "source": [
    "## Find missing values in DataSet"
   ]
  },
  {
   "cell_type": "code",
   "execution_count": 217,
   "metadata": {
    "ExecuteTime": {
     "end_time": "2020-04-01T14:12:07.345116Z",
     "start_time": "2020-04-01T14:12:04.169537Z"
    },
    "code_folding": [],
    "scrolled": true
   },
   "outputs": [
    {
     "data": {
      "text/plain": [
       "ID                             0\n",
       "Source                         0\n",
       "TMC                       728071\n",
       "Severity                       0\n",
       "Start_Time                     0\n",
       "End_Time                       0\n",
       "Start_Lat                      0\n",
       "Start_Lng                      0\n",
       "End_Lat                  2246264\n",
       "End_Lng                  2246264\n",
       "Distance(mi)                   0\n",
       "Description                    1\n",
       "Number                   1917605\n",
       "Street                         0\n",
       "Side                           0\n",
       "City                          83\n",
       "County                         0\n",
       "State                          0\n",
       "Zipcode                      880\n",
       "Country                        0\n",
       "Timezone                    3163\n",
       "Airport_Code                5691\n",
       "Weather_Timestamp          36705\n",
       "Temperature(F)             56063\n",
       "Wind_Chill(F)            1852623\n",
       "Humidity(%)                59173\n",
       "Pressure(in)               48142\n",
       "Visibility(mi)             65691\n",
       "Wind_Direction             45101\n",
       "Wind_Speed(mph)           440840\n",
       "Precipitation(in)        1998358\n",
       "Weather_Condition          65932\n",
       "Amenity                        0\n",
       "Bump                           0\n",
       "Crossing                       0\n",
       "Give_Way                       0\n",
       "Junction                       0\n",
       "No_Exit                        0\n",
       "Railway                        0\n",
       "Roundabout                     0\n",
       "Station                        0\n",
       "Stop                           0\n",
       "Traffic_Calming                0\n",
       "Traffic_Signal                 0\n",
       "Turning_Loop                   0\n",
       "Sunrise_Sunset                93\n",
       "Civil_Twilight                93\n",
       "Nautical_Twilight             93\n",
       "Astronomical_Twilight         93\n",
       "dtype: int64"
      ]
     },
     "execution_count": 217,
     "metadata": {},
     "output_type": "execute_result"
    }
   ],
   "source": [
    "#Find NaN/Null values\n",
    "df.isna().sum()"
   ]
  },
  {
   "cell_type": "code",
   "execution_count": 218,
   "metadata": {
    "ExecuteTime": {
     "end_time": "2020-04-01T14:12:08.454362Z",
     "start_time": "2020-04-01T14:12:07.352061Z"
    }
   },
   "outputs": [],
   "source": [
    "df.drop(columns=['End_Lat', 'End_Lng', 'Number', 'Precipitation(in)'], inplace=True)"
   ]
  },
  {
   "cell_type": "markdown",
   "metadata": {},
   "source": [
    "## Change Data Type (dtype) of columns"
   ]
  },
  {
   "cell_type": "code",
   "execution_count": 233,
   "metadata": {
    "ExecuteTime": {
     "end_time": "2020-04-01T14:39:06.430248Z",
     "start_time": "2020-04-01T14:39:05.432419Z"
    }
   },
   "outputs": [],
   "source": [
    "# Change two Series from object to datetime Dtype\n",
    "#\n",
    "\n",
    "df['Start_Time'] = pd.to_datetime(df['Start_Time'])\n",
    "df['End_Time'] = pd.to_datetime(df['End_Time'])\n",
    "\n",
    "df['Month'] = df['Start_Time'].dt.month\n",
    "df['Hour'] = df['Start_Time'].dt.hour"
   ]
  },
  {
   "cell_type": "markdown",
   "metadata": {},
   "source": [
    "# Visualization \n",
    "###### We will make some graphs, to represent most useful information about dataset."
   ]
  },
  {
   "cell_type": "code",
   "execution_count": 220,
   "metadata": {
    "ExecuteTime": {
     "end_time": "2020-04-01T14:12:13.722249Z",
     "start_time": "2020-04-01T14:12:13.674617Z"
    }
   },
   "outputs": [],
   "source": [
    "state_grp = df.groupby('State')\n"
   ]
  },
  {
   "cell_type": "code",
   "execution_count": 232,
   "metadata": {
    "ExecuteTime": {
     "end_time": "2020-04-01T14:19:34.708345Z",
     "start_time": "2020-04-01T14:19:33.312667Z"
    }
   },
   "outputs": [
    {
     "data": {
      "image/png": "[encoded data removed]",
      "text/plain": [
       "<Figure size 648x648 with 1 Axes>"
      ]
     },
     "metadata": {
      "needs_background": "light"
     },
     "output_type": "display_data"
    }
   ],
   "source": [
    "#list of states\n",
    "\n",
    "state_accident_count = state_grp['State'].value_counts()\n",
    "\n",
    "#state = state_grp.groups.keys()\n",
    "state = state_accident_count.index.get_level_values(0)\n",
    "\n",
    "#fig, ax = plt.subplots(figsize=(9,9))\n",
    "plt.figure(figsize=(9,9))\n",
    "ax = sns.barplot(state, state_accident_count)\n",
    "ax.set(xlabel='State', ylabel='Accident Count')\n",
    "plt.xticks(rotation=90)\n",
    "plt.grid()"
   ]
  },
  {
   "cell_type": "markdown",
   "metadata": {},
   "source": [
    "<h6>5 most States with accidents</h6>"
   ]
  },
  {
   "cell_type": "code",
   "execution_count": 222,
   "metadata": {
    "ExecuteTime": {
     "end_time": "2020-04-01T14:12:15.901096Z",
     "start_time": "2020-04-01T14:12:15.163791Z"
    }
   },
   "outputs": [
    {
     "data": {
      "text/plain": [
       "[Text(0, 0.5, 'Accident Count'), Text(0.5, 0, 'State')]"
      ]
     },
     "execution_count": 222,
     "metadata": {},
     "output_type": "execute_result"
    },
    {
     "data": {
      "image/png": "[encoded data removed]",
      "text/plain": [
       "<Figure size 432x288 with 1 Axes>"
      ]
     },
     "metadata": {
      "needs_background": "light"
     },
     "output_type": "display_data"
    }
   ],
   "source": [
    "#5  most States with acidents\n",
    "\n",
    "#old plot\n",
    "#state_accident_count_5max.plot(kind='bar', \n",
    "#                               grid=True, \n",
    "#                               title='5 States with most accidents',\n",
    "#                               )\n",
    "\n",
    "#Get 5 largest States with accidents\n",
    "state_accident_count_5max = state_grp['State'].value_counts().nlargest(5)\n",
    "\n",
    "#Get indexes names (States) for this 5 values\n",
    "state_5max = state_accident_count_5max.index.get_level_values(0)\n",
    "\n",
    "plt.grid()\n",
    "ax = sns.barplot(x=state_5max, y=state_accident_count_5max)\n",
    "ax.set(xlabel='State', ylabel='Accident Count')"
   ]
  },
  {
   "cell_type": "code",
   "execution_count": 223,
   "metadata": {
    "ExecuteTime": {
     "end_time": "2020-04-01T14:13:29.088839Z",
     "start_time": "2020-04-01T14:12:15.905649Z"
    }
   },
   "outputs": [
    {
     "data": {
      "text/plain": [
       "<matplotlib.axes._subplots.AxesSubplot at 0x7f9ec2fbddd0>"
      ]
     },
     "execution_count": 223,
     "metadata": {},
     "output_type": "execute_result"
    },
    {
     "data": {
      "image/png": "[encoded data removed]",
      "text/plain": [
       "<Figure size 648x648 with 2 Axes>"
      ]
     },
     "metadata": {
      "needs_background": "light"
     },
     "output_type": "display_data"
    }
   ],
   "source": [
    "corr = df.corr() \n",
    "\n",
    "#change size of figure ax=ax\n",
    "#fig, ax = plt.subplots(figsize=(9,9)) \n",
    "plt.figure(figsize=(9,9))\n",
    "sns.heatmap(corr, cmap='Greys', robust=True)"
   ]
  },
  {
   "cell_type": "markdown",
   "metadata": {},
   "source": [
    "<h6>Accidents by Month</h6>"
   ]
  },
  {
   "cell_type": "code",
   "execution_count": 265,
   "metadata": {
    "ExecuteTime": {
     "end_time": "2020-04-01T14:55:13.556774Z",
     "start_time": "2020-04-01T14:55:12.846990Z"
    }
   },
   "outputs": [
    {
     "data": {
      "text/plain": [
       "[Text(0, 0.5, 'Accident Count'), Text(0.5, 0, 'Month')]"
      ]
     },
     "execution_count": 265,
     "metadata": {},
     "output_type": "execute_result"
    },
    {
     "data": {
      "image/png": "[encoded data removed]",
      "text/plain": [
       "<Figure size 432x288 with 1 Axes>"
      ]
     },
     "metadata": {
      "needs_background": "light"
     },
     "output_type": "display_data"
    }
   ],
   "source": [
    "month_grp = df.groupby('Month')\n",
    "month = month_grp['Month'].value_counts().index.get_level_values(0)\n",
    "month_acc_count = month_grp['Month'].value_counts()\n",
    "\n",
    "ax = sns.barplot(x=month, y=month_acc_count, data=df)\n",
    "ax.set(xlabel='Month', ylabel='Accident Count')"
   ]
  },
  {
   "cell_type": "code",
   "execution_count": 267,
   "metadata": {
    "ExecuteTime": {
     "end_time": "2020-04-01T14:58:51.637299Z",
     "start_time": "2020-04-01T14:58:35.068767Z"
    }
   },
   "outputs": [
    {
     "data": {
      "image/png": "[encoded data removed]",
      "text/plain": [
       "<Figure size 432x288 with 1 Axes>"
      ]
     },
     "metadata": {
      "needs_background": "light"
     },
     "output_type": "display_data"
    }
   ],
   "source": [
    "ax = sns.distplot(df['Month'])"
   ]
  },
  {
   "cell_type": "code",
   "execution_count": null,
   "metadata": {},
   "outputs": [],
   "source": []
  }
 ],
 "metadata": {
  "kernelspec": {
   "display_name": "Python 3",
   "language": "python",
   "name": "python3"
  },
  "language_info": {
   "codemirror_mode": {
    "name": "ipython",
    "version": 3
   },
   "file_extension": ".py",
   "mimetype": "text/x-python",
   "name": "python",
   "nbconvert_exporter": "python",
   "pygments_lexer": "ipython3",
   "version": "3.7.6"
  },
  "toc": {
   "base_numbering": 1,
   "nav_menu": {},
   "number_sections": true,
   "sideBar": true,
   "skip_h1_title": false,
   "title_cell": "Table of Contents",
   "title_sidebar": "Contents",
   "toc_cell": false,
   "toc_position": {},
   "toc_section_display": true,
   "toc_window_display": false
  }
 },
 "nbformat": 4,
 "nbformat_minor": 4
}
